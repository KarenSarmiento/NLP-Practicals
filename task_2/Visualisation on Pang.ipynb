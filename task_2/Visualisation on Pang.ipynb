{
 "cells": [
  {
   "cell_type": "code",
   "execution_count": 1,
   "metadata": {},
   "outputs": [
    {
     "name": "stderr",
     "output_type": "stream",
     "text": [
      "[nltk_data] Downloading package tagsets to /home/karen/nltk_data...\n",
      "[nltk_data]   Package tagsets is already up-to-date!\n"
     ]
    },
    {
     "data": {
      "text/plain": [
       "True"
      ]
     },
     "execution_count": 1,
     "metadata": {},
     "output_type": "execute_result"
    }
   ],
   "source": [
    "# IMPORTS\n",
    "import copy\n",
    "import glob\n",
    "from imdb import IMDb\n",
    "from itertools import cycle\n",
    "import matplotlib.pyplot as plt\n",
    "from mpl_toolkits.mplot3d import Axes3D\n",
    "import math\n",
    "import nltk\n",
    "import numpy as np\n",
    "import random\n",
    "import statistics\n",
    "import subprocess\n",
    "import textclean\n",
    "import unicodedata\n",
    "\n",
    "from __future__ import print_function\n",
    "from gensim.models.doc2vec import Doc2Vec, TaggedDocument\n",
    "from gensim.models import Word2Vec\n",
    "from gensim.test.utils import get_tmpfile\n",
    "from nltk.stem import PorterStemmer\n",
    "from scipy.stats import binom\n",
    "from sklearn.manifold import TSNE\n",
    "from sklearn.preprocessing import normalize\n",
    "from sklearn.cluster import AffinityPropagation\n",
    "from textclean import textclean\n",
    "from nltk.tokenize import TweetTokenizer\n",
    "\n",
    "# nltk.download('punkt')\n",
    "nltk.download('tagsets')\n"
   ]
  },
  {
   "cell_type": "code",
   "execution_count": 2,
   "metadata": {},
   "outputs": [],
   "source": [
    "# CONSTANTS\n",
    "NUM_FOLDS = 10\n",
    "ACL_PATH = \"aclImdb_v1/aclImdb/{}\"\n",
    "ACL_FOLDER_PATHS = [\n",
    "    ACL_PATH.format(\"train/unsup/*\"),\n",
    "    ACL_PATH.format(\"train/pos/*\"),\n",
    "    ACL_PATH.format(\"train/neg/*\"),\n",
    "    ACL_PATH.format(\"test/pos/*\"),\n",
    "    ACL_PATH.format(\"test/neg/*\")\n",
    "]\n",
    "ACL_URL_PATHS = [\n",
    "    ACL_PATH.format(\"train/urls_unsup.txt\"),\n",
    "    ACL_PATH.format(\"train/urls_pos.txt\"),\n",
    "    ACL_PATH.format(\"train/urls_neg.txt\"),\n",
    "    ACL_PATH.format(\"test/urls_pos.txt\"),\n",
    "    ACL_PATH.format(\"test/urls_neg.txt\")\n",
    "]\n",
    "PANG_POS_PATH = \"POS-tokenized/POS/*\"\n",
    "PANG_NEG_PATH = \"NEG-tokenized/NEG/*\"\n",
    "SEED = 0\n",
    "NUM_FOLDS = 10\n",
    "POS = 1\n",
    "NEG = -1\n",
    "R = 5000"
   ]
  },
  {
   "cell_type": "code",
   "execution_count": null,
   "metadata": {},
   "outputs": [],
   "source": []
  }
 ],
 "metadata": {
  "kernelspec": {
   "display_name": "Python 2",
   "language": "python",
   "name": "python2"
  },
  "language_info": {
   "codemirror_mode": {
    "name": "ipython",
    "version": 2
   },
   "file_extension": ".py",
   "mimetype": "text/x-python",
   "name": "python",
   "nbconvert_exporter": "python",
   "pygments_lexer": "ipython2",
   "version": "2.7.15+"
  }
 },
 "nbformat": 4,
 "nbformat_minor": 2
}
